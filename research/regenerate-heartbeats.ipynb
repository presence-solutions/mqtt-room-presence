{
 "cells": [
  {
   "cell_type": "code",
   "execution_count": 1,
   "source": [
    "import matplotlib.pyplot as plt\n",
    "import pandas as pd\n",
    "import numpy as np\n",
    "import asyncio\n",
    "import xgboost\n",
    "from sklearn import model_selection\n",
    "from sklearn.ensemble import RandomForestClassifier\n",
    "from sklearn import preprocessing, metrics, linear_model, multiclass\n",
    "from server import models, config\n",
    "from server.kalman import KalmanRSSI\n",
    "from server.heartbeat import HeratbeatGenerator\n",
    "from server.learn import regenerate_heartbeats\n",
    "import imblearn\n",
    "import seaborn"
   ],
   "outputs": [],
   "metadata": {}
  },
  {
   "cell_type": "code",
   "execution_count": 2,
   "source": [
    "await models.init_db({ 'config': config })"
   ],
   "outputs": [],
   "metadata": {}
  },
  {
   "cell_type": "code",
   "execution_count": 3,
   "source": [
    "device = await models.Device.get(name='Mi Smart Band 6')"
   ],
   "outputs": [],
   "metadata": {}
  },
  {
   "cell_type": "code",
   "execution_count": 4,
   "source": [
    "await models.DeviceHeartbeat.filter().delete()"
   ],
   "outputs": [
    {
     "output_type": "execute_result",
     "data": {
      "text/plain": [
       "0"
      ]
     },
     "metadata": {},
     "execution_count": 4
    }
   ],
   "metadata": {}
  },
  {
   "cell_type": "code",
   "execution_count": 5,
   "source": [
    "await regenerate_heartbeats(device)"
   ],
   "outputs": [],
   "metadata": {}
  },
  {
   "cell_type": "code",
   "execution_count": 25,
   "source": [
    "def weighted_f_score(y_true, y_pred, *, average='micro', verbose=False):\n",
    "    scores = np.array(metrics.fbeta_score(y_true, y_pred, beta=10, average=None))\n",
    "    if verbose:\n",
    "        print(scores)\n",
    "    if average is not None:\n",
    "        return scores.mean() - 4 * scores.std()\n",
    "    return scores\n",
    "\n",
    "super_scoring = metrics.make_scorer(weighted_f_score)"
   ],
   "outputs": [],
   "metadata": {}
  },
  {
   "cell_type": "code",
   "execution_count": 27,
   "source": [
    "scanners = [s.uuid for s in await models.Scanner.filter()]\n",
    "default_heartbeat = dict(zip(scanners, [-100] * len(scanners)))\n",
    "heartbeats = await models.DeviceHeartbeat.filter().prefetch_related('room')\n",
    "heartbeats = [{**default_heartbeat, **h.signals, 'room': h.room.id} for h in heartbeats]\n",
    "heartbeats_df = pd.DataFrame(heartbeats)\n",
    "heartbeats_df.drop_duplicates(inplace=True)"
   ],
   "outputs": [],
   "metadata": {}
  },
  {
   "cell_type": "code",
   "execution_count": 28,
   "source": [
    "heartbeats_target = heartbeats_df.room.values\n",
    "heartbeats_data = heartbeats_df.iloc[:, :-1]\n",
    "X_train, X_test, y_train, y_test = model_selection.train_test_split(heartbeats_data, heartbeats_target, stratify=heartbeats_target, random_state=42)"
   ],
   "outputs": [],
   "metadata": {}
  },
  {
   "cell_type": "code",
   "execution_count": 29,
   "source": [
    "print(np.unique(y_train, return_counts=True))\n",
    "print(np.unique(y_test, return_counts=True))"
   ],
   "outputs": [
    {
     "output_type": "stream",
     "name": "stdout",
     "text": [
      "(array([1, 2, 3, 4, 5, 6, 7]), array([ 644,  362,  263, 1049,  227,  179,  110]))\n",
      "(array([1, 2, 3, 4, 5, 6, 7]), array([215, 120,  88, 350,  76,  60,  36]))\n"
     ]
    }
   ],
   "metadata": {}
  },
  {
   "cell_type": "code",
   "execution_count": 30,
   "source": [
    "estimator = multiclass.OneVsRestClassifier(RandomForestClassifier(random_state=42, n_jobs=-1))\n",
    "model_selection.cross_validate(estimator, X_train, y_train, cv=5, scoring=super_scoring)"
   ],
   "outputs": [
    {
     "output_type": "execute_result",
     "data": {
      "text/plain": [
       "{'fit_time': array([1.1602428 , 0.66745424, 0.65914989, 0.64133883, 0.63036561]),\n",
       " 'score_time': array([0.46792054, 0.48144054, 0.46253681, 0.47163916, 0.47018361]),\n",
       " 'test_score': array([1.        , 0.92406911, 1.        , 0.93121184, 1.        ])}"
      ]
     },
     "metadata": {},
     "execution_count": 30
    }
   ],
   "metadata": {}
  },
  {
   "cell_type": "code",
   "execution_count": 31,
   "source": [
    "estimator = multiclass.OneVsRestClassifier(RandomForestClassifier(random_state=42, n_jobs=-1))\n",
    "estimator.fit(X_train, y_train)"
   ],
   "outputs": [
    {
     "output_type": "execute_result",
     "data": {
      "text/plain": [
       "OneVsRestClassifier(estimator=RandomForestClassifier(n_jobs=-1,\n",
       "                                                     random_state=42))"
      ]
     },
     "metadata": {},
     "execution_count": 31
    }
   ],
   "metadata": {}
  },
  {
   "cell_type": "code",
   "execution_count": 32,
   "source": [
    "print('AUC ROC: ', metrics.roc_auc_score(y_test, estimator.predict_proba(X_test), multi_class='ovr'))\n",
    "print('Precision: ', metrics.precision_score(y_test, estimator.predict(X_test), average=None))\n",
    "print('Recall: ', metrics.recall_score(y_test, estimator.predict(X_test), average=None))"
   ],
   "outputs": [
    {
     "output_type": "stream",
     "name": "stdout",
     "text": [
      "AUC ROC:  1.0\n",
      "Precision:  [1.         1.         1.         0.997151   1.         1.\n",
      " 0.97297297]\n",
      "Recall:  [1.         0.98333333 1.         1.         1.         1.\n",
      " 1.        ]\n"
     ]
    }
   ],
   "metadata": {}
  }
 ],
 "metadata": {
  "orig_nbformat": 4,
  "language_info": {
   "name": "python",
   "version": "3.8.10",
   "mimetype": "text/x-python",
   "codemirror_mode": {
    "name": "ipython",
    "version": 3
   },
   "pygments_lexer": "ipython3",
   "nbconvert_exporter": "python",
   "file_extension": ".py"
  },
  "kernelspec": {
   "name": "python3",
   "display_name": "Python 3.8.10 64-bit ('.venv': poetry)"
  },
  "interpreter": {
   "hash": "d5ceba788e737ba8fb714f2127a2a98d008e6777192d5fb4492bda2917275c4a"
  }
 },
 "nbformat": 4,
 "nbformat_minor": 2
}