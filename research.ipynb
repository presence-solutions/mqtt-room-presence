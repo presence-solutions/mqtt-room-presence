{
 "cells": [
  {
   "cell_type": "code",
   "execution_count": null,
   "metadata": {},
   "outputs": [],
   "source": [
    "import matplotlib.pyplot as plt\n",
    "import pandas as pd\n",
    "import numpy as np\n",
    "from scipy.spatial.distance import euclidean, pdist, cdist, squareform\n",
    "from sklearn import preprocessing\n",
    "from datetime import datetime\n",
    "from dataclasses import make_dataclass\n",
    "from server import models\n",
    "from server import config\n",
    "\n",
    "await models.init_db({ 'config': config })"
   ]
  },
  {
   "cell_type": "code",
   "execution_count": null,
   "metadata": {},
   "outputs": [],
   "source": [
    "device = await models.Device.get(name='Mi Smart Band 4')\n",
    "raw_signals = await models.DeviceHeartbeat.filter(device=device).prefetch_related('room')"
   ]
  },
  {
   "cell_type": "code",
   "execution_count": null,
   "metadata": {},
   "outputs": [],
   "source": [
    "Signal = make_dataclass('Signal',  [\n",
    "    (\"id\", int),\n",
    "    (\"room\", 'string'),\n",
    "    (\"office\", float), \n",
    "    (\"bathroom\", float), \n",
    "    (\"extra_1\", float), \n",
    "    (\"lobby\", float), \n",
    "    (\"laundry\", float), \n",
    "    (\"kitchen\", float), \n",
    "    (\"guest\", float), \n",
    "    (\"bedroom\", float),\n",
    "])\n",
    "\n",
    "signals_df = pd.DataFrame([Signal(\n",
    "    id=s.id,\n",
    "    room=s.room.name,\n",
    "    office=s.signals.get('office', {}).get('filtered_rssi', -100),\n",
    "    bathroom=s.signals.get('bathroom', {}).get('filtered_rssi', -100),\n",
    "    extra_1=s.signals.get('extra-1', {}).get('filtered_rssi', -100),\n",
    "    lobby=s.signals.get('lobby', {}).get('filtered_rssi', -100),\n",
    "    laundry=s.signals.get('laundry', {}).get('filtered_rssi', -100), \n",
    "    kitchen=s.signals.get('kitchen', {}).get('filtered_rssi', -100),\n",
    "    guest=s.signals.get('guest', {}).get('filtered_rssi', -100),\n",
    "    bedroom=s.signals.get('bedroom', {}).get('filtered_rssi', -100),\n",
    ") for idx, s in enumerate(raw_signals)])\n",
    "\n",
    "column_names_to_normalize = ['office', 'bathroom', 'extra_1', 'lobby', 'laundry', 'kitchen', 'guest', 'bedroom']\n",
    "tmp_x = signals_df[column_names_to_normalize].values\n",
    "tmp_x_scaled = preprocessing.normalize(tmp_x, norm='l2')\n",
    "df_temp = pd.DataFrame(tmp_x_scaled, columns=column_names_to_normalize, index = signals_df.index)\n",
    "signals_df[column_names_to_normalize] = df_temp"
   ]
  },
  {
   "cell_type": "code",
   "execution_count": null,
   "metadata": {},
   "outputs": [],
   "source": [
    "tmp_x_filterd = [tmp_x_scaled[0]]\n",
    "tmp_x_indexes = [0]\n",
    "tmp_x_removed = []\n",
    "\n",
    "for i, s in enumerate(tmp_x_scaled):\n",
    "    distances = cdist(tmp_x_filterd, [s], 'euclidean')\n",
    "    close_signals = [i for i, d in enumerate(distances) if d < 0.010]\n",
    "    identical_signals = [i for i, d in enumerate(distances) if d < 0.005]\n",
    "\n",
    "    if len(close_signals) < 1 and len(identical_signals) == 0:\n",
    "        tmp_x_filterd.append(s)\n",
    "        tmp_x_indexes.append(i)\n",
    "    else:\n",
    "        tmp_x_removed.append(i)\n",
    "\n",
    "print('Original length: {}'.format(len(tmp_x_scaled)))\n",
    "print('New length: {}'.format(len(tmp_x_filterd)))\n",
    "\n",
    "removed_signals_df = signals_df.iloc[tmp_x_removed, :]\n",
    "signals_df = signals_df.iloc[tmp_x_indexes, :]"
   ]
  },
  {
   "cell_type": "code",
   "execution_count": null,
   "metadata": {},
   "outputs": [],
   "source": [
    "ids = removed_signals_df['id'].values\n",
    "await models.DeviceHeartbeat.filter(id__in=ids).delete()"
   ]
  },
  {
   "cell_type": "code",
   "execution_count": null,
   "metadata": {},
   "outputs": [],
   "source": [
    "fig = plt.figure(figsize=(10, 10))\n",
    "ax = fig.add_subplot(111)\n",
    "# ax1 = fig.add_subplot(132)\n",
    "# ax2 = fig.add_subplot(133)\n",
    "ax.set_xlim([-0.2, -0.5])\n",
    "# ax1.set_xlim([-100, 0])\n",
    "# ax2.set_xlim([-100, 0])\n",
    "ax.set_ylim([-0.2, -0.5])\n",
    "# ax1.set_ylim([-100, 0])\n",
    "# ax2.set_ylim([-100, 0])\n",
    "\n",
    "signals_df[(signals_df['room']=='Office')].plot.scatter(x='extra_1', y='lobby', color='red', ax=ax)\n",
    "signals_df[(signals_df['room']=='Office')].plot.scatter(x='extra_1', y='bathroom', color='red', ax=ax)\n",
    "signals_df[(signals_df['room']=='Office')].plot.scatter(x='extra_1', y='laundry', color='red', ax=ax)\n",
    "\n",
    "signals_df[(signals_df['room']=='Bathroom')].plot.scatter(x='extra_1', y='lobby', color='green', ax=ax)\n",
    "signals_df[(signals_df['room']=='Bathroom')].plot.scatter(x='extra_1', y='bathroom', color='green', ax=ax)\n",
    "signals_df[(signals_df['room']=='Bathroom')].plot.scatter(x='extra_1', y='laundry', color='green', ax=ax)\n",
    "\n",
    "signals_df[(signals_df['room']=='Lobby')].plot.scatter(x='extra_1', y='lobby', color='blue', ax=ax)\n",
    "signals_df[(signals_df['room']=='Lobby')].plot.scatter(x='extra_1', y='bathroom', color='blue', ax=ax)\n",
    "signals_df[(signals_df['room']=='Lobby')].plot.scatter(x='extra_1', y='laundry', color='blue', ax=ax)"
   ]
  },
  {
   "cell_type": "code",
   "execution_count": null,
   "metadata": {},
   "outputs": [],
   "source": [
    "fig = plt.figure(figsize=(20, 10))\n",
    "ax = fig.add_subplot(111)\n",
    "\n",
    "signals_df[(signals_df['room']=='Office')].plot(y='extra_1', color='red', ax=ax)\n",
    "signals_df[(signals_df['room']=='Office')].plot(y='bathroom', color='blue', ax=ax)\n",
    "signals_df[(signals_df['room']=='Office')].plot(y='lobby', color='green', ax=ax)\n"
   ]
  },
  {
   "cell_type": "code",
   "execution_count": null,
   "metadata": {},
   "outputs": [],
   "source": [
    "numbers_df = signals_df[column_names_to_normalize]\n",
    "dists = pdist(numbers_df, 'euclidean')\n",
    "euclid_df = pd.DataFrame(squareform(dists), columns=numbers_df.index, index=numbers_df.index)"
   ]
  },
  {
   "cell_type": "code",
   "execution_count": null,
   "metadata": {},
   "outputs": [],
   "source": [
    "fig, ax = plt.subplots(figsize=(20,20))\n",
    "cax = ax.matshow(euclid_df, interpolation='nearest')\n",
    "fig.colorbar(cax, ticks=[0.1, 0.2, 0.3, 0.4, 0.5, 0.6, 0.7, .75,.8,.85,.90,.95,1])\n",
    "plt.show()"
   ]
  },
  {
   "cell_type": "code",
   "execution_count": null,
   "metadata": {},
   "outputs": [],
   "source": [
    "similarity_cut = dists[dists < 1]\n",
    "plt.hist(similarity_cut)\n",
    "print((len(similarity_cut) / len(dists)) * 100)"
   ]
  },
  {
   "cell_type": "code",
   "execution_count": null,
   "metadata": {},
   "outputs": [],
   "source": []
  }
 ],
 "metadata": {
  "kernelspec": {
   "display_name": "Python 3.8.5 64-bit ('.venv')",
   "metadata": {
    "interpreter": {
     "hash": "d5ceba788e737ba8fb714f2127a2a98d008e6777192d5fb4492bda2917275c4a"
    }
   },
   "name": "python3"
  },
  "language_info": {
   "codemirror_mode": {
    "name": "ipython",
    "version": 3
   },
   "file_extension": ".py",
   "mimetype": "text/x-python",
   "name": "python",
   "nbconvert_exporter": "python",
   "pygments_lexer": "ipython3",
   "version": "3.8.5"
  },
  "orig_nbformat": 2
 },
 "nbformat": 4,
 "nbformat_minor": 2
}